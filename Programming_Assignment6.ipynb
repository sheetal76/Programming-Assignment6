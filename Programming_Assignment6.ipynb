{
  "nbformat": 4,
  "nbformat_minor": 0,
  "metadata": {
    "colab": {
      "provenance": []
    },
    "kernelspec": {
      "name": "python3",
      "display_name": "Python 3"
    },
    "language_info": {
      "name": "python"
    }
  },
  "cells": [
    {
      "cell_type": "code",
      "execution_count": 1,
      "metadata": {
        "id": "-3pjdnEQc3xG"
      },
      "outputs": [],
      "source": [
        "#1. Write a Python Program to Display Fibonacci Sequence Using Recursion?"
      ]
    },
    {
      "cell_type": "code",
      "source": [
        "def fibo(a,b,c):\n",
        "    if c > 0:\n",
        "        c -= 1\n",
        "        print(a, end=' ')\n",
        "        temp = b\n",
        "        b = a + b\n",
        "        a = temp\n",
        "        fibo(a,b,c)\n",
        "fibo(0,1,10)"
      ],
      "metadata": {
        "colab": {
          "base_uri": "https://localhost:8080/"
        },
        "id": "31v8d4ZwevIr",
        "outputId": "2660d9e1-957b-40c4-8605-0adce9c12c7a"
      },
      "execution_count": 12,
      "outputs": [
        {
          "output_type": "stream",
          "name": "stdout",
          "text": [
            "0 1 1 2 3 5 8 13 21 34 "
          ]
        }
      ]
    },
    {
      "cell_type": "code",
      "source": [
        "#2. Write a Python Program to Find Factorial of Number Using Recursion?"
      ],
      "metadata": {
        "id": "JV056kLBc60r"
      },
      "execution_count": 2,
      "outputs": []
    },
    {
      "cell_type": "code",
      "source": [
        "def factorial_recursive(n):\n",
        "    if n == 0 or n == 1:\n",
        "        return 1\n",
        "    else:\n",
        "        return n * factorial_recursive(n - 1)\n",
        "\n",
        "# Taking input from the user\n",
        "num = int(input(\"Enter a number: \"))\n",
        "\n",
        "result = factorial_recursive(num)\n",
        "\n",
        "print(f\"The factorial of {num} is: {result}\")\n",
        "\n"
      ],
      "metadata": {
        "colab": {
          "base_uri": "https://localhost:8080/"
        },
        "id": "X8_4qI3neBl1",
        "outputId": "9335d836-12fe-4151-8f57-5499cff3ea2c"
      },
      "execution_count": 10,
      "outputs": [
        {
          "output_type": "stream",
          "name": "stdout",
          "text": [
            "Enter a number: 5\n",
            "The factorial of 5 is: 120\n"
          ]
        }
      ]
    },
    {
      "cell_type": "code",
      "source": [
        "#3. Write a Python Program to calculate your Body Mass Index?"
      ],
      "metadata": {
        "id": "Apxmqk4-dBJC"
      },
      "execution_count": 3,
      "outputs": []
    },
    {
      "cell_type": "code",
      "source": [
        "# Taking input from the user\n",
        "weight_kg = float(input(\"Enter your weight in kilograms: \"))\n",
        "height_m = float(input(\"Enter your height in meters: \"))\n",
        "\n",
        "# Calculating BMI using the formula: BMI = weight / (height^2)\n",
        "bmi = weight_kg / (height_m ** 2)\n",
        "\n",
        "print(f\"Your Body Mass Index (BMI) is: {bmi:.2f}\")\n"
      ],
      "metadata": {
        "colab": {
          "base_uri": "https://localhost:8080/"
        },
        "id": "DlOHrwLnd2pJ",
        "outputId": "27c61f33-9c2c-494d-ec4f-3fbc3cb6d459"
      },
      "execution_count": 9,
      "outputs": [
        {
          "output_type": "stream",
          "name": "stdout",
          "text": [
            "Enter your weight in kilograms: 45\n",
            "Enter your height in meters: 4.3\n",
            "Your Body Mass Index (BMI) is: 2.43\n"
          ]
        }
      ]
    },
    {
      "cell_type": "code",
      "source": [
        "#4. Write a Python Program to calculate the natural logarithm of any number?"
      ],
      "metadata": {
        "id": "rr7pAqrodEmZ"
      },
      "execution_count": 4,
      "outputs": []
    },
    {
      "cell_type": "code",
      "source": [
        "import math\n",
        "\n",
        "# Taking input from the user\n",
        "num = float(input(\"Enter a number: \"))\n",
        "\n",
        "# Calculating natural logarithm using math.log() function\n",
        "natural_log = math.log(num)\n",
        "\n",
        "print(f\"The natural logarithm of {num} is: {natural_log}\")\n"
      ],
      "metadata": {
        "colab": {
          "base_uri": "https://localhost:8080/"
        },
        "id": "cKI2_7WEdiD0",
        "outputId": "60ef63ea-a5aa-485e-e9d0-777e4a037766"
      },
      "execution_count": 8,
      "outputs": [
        {
          "output_type": "stream",
          "name": "stdout",
          "text": [
            "Enter a number: 5\n",
            "The natural logarithm of 5.0 is: 1.6094379124341003\n"
          ]
        }
      ]
    },
    {
      "cell_type": "code",
      "source": [
        "#5. Write a Python Program for cube sum of first n natural numbers?"
      ],
      "metadata": {
        "id": "V-D9tsN0dHqO"
      },
      "execution_count": 5,
      "outputs": []
    },
    {
      "cell_type": "code",
      "source": [
        "def cube_sum(n):\n",
        "    total = 0\n",
        "    for i in range(1, n + 1):\n",
        "        total += i ** 3\n",
        "    return total\n",
        "\n",
        "# Taking input from the user\n",
        "n = int(input(\"Enter the value of n: \"))\n",
        "\n",
        "result = cube_sum(n)\n",
        "\n",
        "print(f\"The cube sum of the first {n} natural numbers is: {result}\")\n"
      ],
      "metadata": {
        "colab": {
          "base_uri": "https://localhost:8080/"
        },
        "id": "DY186QJrdLNS",
        "outputId": "65a673ab-45a8-4f62-8174-884a557552bf"
      },
      "execution_count": 6,
      "outputs": [
        {
          "output_type": "stream",
          "name": "stdout",
          "text": [
            "Enter the value of n: 5\n",
            "The cube sum of the first 5 natural numbers is: 225\n"
          ]
        }
      ]
    },
    {
      "cell_type": "code",
      "source": [],
      "metadata": {
        "id": "6jBTBGfDdai_"
      },
      "execution_count": null,
      "outputs": []
    }
  ]
}